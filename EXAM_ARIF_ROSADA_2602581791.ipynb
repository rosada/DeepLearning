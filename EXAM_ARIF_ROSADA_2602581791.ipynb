{
  "cells": [
    {
      "cell_type": "code",
      "metadata": {
        "id": "cell-1",
        "colab": {
          "base_uri": "https://localhost:8080/"
        },
        "outputId": "09615278-3d59-41ea-c9f0-2a294ab2bd6f"
      },
      "source": [
        "# Sel 1: Impor library dan hubungkan Google Drive\n",
        "import tensorflow as tf\n",
        "from tensorflow.keras.models import Sequential\n",
        "from tensorflow.keras.layers import Conv2D, MaxPooling2D, Flatten, Dense, Dropout\n",
        "from tensorflow.keras.regularizers import l2\n",
        "from tensorflow.keras.preprocessing.image import ImageDataGenerator\n",
        "from tensorflow.keras.callbacks import ModelCheckpoint, EarlyStopping\n",
        "import os\n",
        "import shutil\n",
        "import random\n",
        "import zipfile\n",
        "from google.colab import drive\n",
        "import pickle\n",
        "import matplotlib.pyplot as plt\n",
        "\n",
        "# Set seed untuk reproduksibilitas\n",
        "tf.random.set_seed(42)\n",
        "\n",
        "# Hubungkan Google Drive\n",
        "print(\"Menghubungkan Google Drive...\")\n",
        "drive.mount('/content/drive')"
      ],
      "execution_count": 1,
      "outputs": [
        {
          "output_type": "stream",
          "name": "stdout",
          "text": [
            "Menghubungkan Google Drive...\n",
            "Mounted at /content/drive\n"
          ]
        }
      ]
    },
    {
      "cell_type": "code",
      "metadata": {
        "id": "cell-2",
        "colab": {
          "base_uri": "https://localhost:8080/"
        },
        "outputId": "146ed3f2-0f58-4b93-bbf7-6573552a0cb7"
      },
      "source": [
        "# Sel 2: Verifikasi dan ekstrak dataset\n",
        "zip_path = '/content/drive/MyDrive/RealWasteDataset/realwaste.zip'  # Sesuaikan path\n",
        "extract_path = '/content/realwaste_data'\n",
        "\n",
        "# Verifikasi keberadaan file zip\n",
        "if not os.path.exists(zip_path):\n",
        "    raise FileNotFoundError(f\"File zip tidak ditemukan di {zip_path}. Pastikan file realwaste.zip sudah diunggah ke Google Drive.\")\n",
        "\n",
        "# Ekstrak dataset\n",
        "if not os.path.exists(extract_path):\n",
        "    print(f\"Mengekstrak dataset dari {zip_path}...\")\n",
        "    with zipfile.ZipFile(zip_path, 'r') as zip_ref:\n",
        "        zip_ref.extractall(extract_path)\n",
        "    print(f\"Dataset diekstrak ke: {extract_path}\")\n",
        "else:\n",
        "    print(f\"Folder dataset sudah ada di: {extract_path}\")"
      ],
      "execution_count": 2,
      "outputs": [
        {
          "output_type": "stream",
          "name": "stdout",
          "text": [
            "Mengekstrak dataset dari /content/drive/MyDrive/RealWasteDataset/realwaste.zip...\n",
            "Dataset diekstrak ke: /content/realwaste_data\n"
          ]
        }
      ]
    },
    {
      "cell_type": "code",
      "metadata": {
        "id": "cell-3",
        "colab": {
          "base_uri": "https://localhost:8080/"
        },
        "outputId": "8a16a9fa-3799-45fe-a84d-6197c0523aa2"
      },
      "source": [
        "# Sel 3: Verifikasi struktur dataset dan jumlah citra per kelas\n",
        "data_dir = os.path.join(extract_path, 'realwaste-main', 'RealWaste')  # Path yang diperbarui\n",
        "classes = ['Cardboard', 'Food Organics', 'Glass', 'Metal', 'Miscellaneous Trash',\n",
        "           'Paper', 'Plastic', 'Textile Trash', 'Vegetation']\n",
        "expected_counts = {\n",
        "    'Cardboard': 461,\n",
        "    'Food Organics': 411,\n",
        "    'Glass': 420,\n",
        "    'Metal': 790,\n",
        "    'Miscellaneous Trash': 495,\n",
        "    'Paper': 500,\n",
        "    'Plastic': 921,\n",
        "    'Textile Trash': 318,\n",
        "    'Vegetation': 436\n",
        "}\n",
        "\n",
        "print(\"Memverifikasi struktur dataset...\")\n",
        "if not os.path.exists(data_dir):\n",
        "    raise FileNotFoundError(f\"Folder dataset tidak ditemukan di {data_dir}. Pastikan dataset diekstrak dengan benar.\")\n",
        "\n",
        "# Verifikasi keberadaan folder kelas dan jumlah citra\n",
        "for cls in classes:\n",
        "    class_path = os.path.join(data_dir, cls)\n",
        "    if not os.path.exists(class_path):\n",
        "        raise FileNotFoundError(f\"Folder kelas {cls} tidak ditemukan di {data_dir}.\")\n",
        "    images = [f for f in os.listdir(class_path) if os.path.isfile(os.path.join(class_path, f))]\n",
        "    actual_count = len(images)\n",
        "    expected_count = expected_counts[cls]\n",
        "    if actual_count != expected_count:\n",
        "        raise ValueError(f\"Kelas {cls}: Jumlah citra ({actual_count}) tidak sesuai dengan yang diharapkan ({expected_count}).\")\n",
        "    print(f\"Kelas {cls}: {actual_count} citra (sesuai)\")"
      ],
      "execution_count": 4,
      "outputs": [
        {
          "output_type": "stream",
          "name": "stdout",
          "text": [
            "Memverifikasi struktur dataset...\n",
            "Kelas Cardboard: 461 citra (sesuai)\n",
            "Kelas Food Organics: 411 citra (sesuai)\n",
            "Kelas Glass: 420 citra (sesuai)\n",
            "Kelas Metal: 790 citra (sesuai)\n",
            "Kelas Miscellaneous Trash: 495 citra (sesuai)\n",
            "Kelas Paper: 500 citra (sesuai)\n",
            "Kelas Plastic: 921 citra (sesuai)\n",
            "Kelas Textile Trash: 318 citra (sesuai)\n",
            "Kelas Vegetation: 436 citra (sesuai)\n"
          ]
        }
      ]
    },
    {
      "cell_type": "code",
      "metadata": {
        "id": "cell-4",
        "colab": {
          "base_uri": "https://localhost:8080/"
        },
        "outputId": "8d9c1191-50c0-4119-ab1a-47d0ea88f03f"
      },
      "source": [
        "# Sel 4: Membagi dataset menjadi train dan validation\n",
        "train_dir = os.path.join(extract_path, 'train')\n",
        "val_dir = os.path.join(extract_path, 'validation')\n",
        "\n",
        "# Buat direktori train dan validation\n",
        "os.makedirs(train_dir, exist_ok=True)\n",
        "os.makedirs(val_dir, exist_ok=True)\n",
        "\n",
        "# Rasio pembagian: 80% train, 20% validation\n",
        "train_ratio = 0.8\n",
        "print(\"Membagi dataset: 80% train, 20% validation...\")\n",
        "for cls in classes:\n",
        "    # Buat subfolder untuk train dan validation\n",
        "    os.makedirs(os.path.join(train_dir, cls), exist_ok=True)\n",
        "    os.makedirs(os.path.join(val_dir, cls), exist_ok=True)\n",
        "\n",
        "    # Dapatkan daftar file di folder kelas\n",
        "    class_path = os.path.join(data_dir, cls)\n",
        "    images = [f for f in os.listdir(class_path) if os.path.isfile(os.path.join(class_path, f))]\n",
        "\n",
        "    # Acak urutan file\n",
        "    random.shuffle(images)\n",
        "\n",
        "    # Hitung jumlah data untuk train\n",
        "    train_size = int(len(images) * train_ratio)\n",
        "\n",
        "    # Bagi file ke train dan validation\n",
        "    train_images = images[:train_size]\n",
        "    val_images = images[train_size:]\n",
        "\n",
        "    # Salin file ke direktori train\n",
        "    for img in train_images:\n",
        "        shutil.copy(os.path.join(class_path, img), os.path.join(train_dir, cls, img))\n",
        "\n",
        "    # Salin file ke direktori validation\n",
        "    for img in val_images:\n",
        "        shutil.copy(os.path.join(class_path, img), os.path.join(val_dir, cls, img))\n",
        "\n",
        "    print(f\"Kelas {cls}: {len(train_images)} train, {len(val_images)} validation\")"
      ],
      "execution_count": 5,
      "outputs": [
        {
          "output_type": "stream",
          "name": "stdout",
          "text": [
            "Membagi dataset: 80% train, 20% validation...\n",
            "Kelas Cardboard: 368 train, 93 validation\n",
            "Kelas Food Organics: 328 train, 83 validation\n",
            "Kelas Glass: 336 train, 84 validation\n",
            "Kelas Metal: 632 train, 158 validation\n",
            "Kelas Miscellaneous Trash: 396 train, 99 validation\n",
            "Kelas Paper: 400 train, 100 validation\n",
            "Kelas Plastic: 736 train, 185 validation\n",
            "Kelas Textile Trash: 254 train, 64 validation\n",
            "Kelas Vegetation: 348 train, 88 validation\n"
          ]
        }
      ]
    },
    {
      "cell_type": "code",
      "metadata": {
        "id": "cell-5",
        "colab": {
          "base_uri": "https://localhost:8080/"
        },
        "outputId": "b3a92c6b-6b29-4b77-c443-5e452315e461"
      },
      "source": [
        "# Sel 5: Menyiapkan data generator untuk pelatihan dan validasi\n",
        "IMG_HEIGHT, IMG_WIDTH = 224, 224\n",
        "BATCH_SIZE = 32\n",
        "NUM_CLASSES = 9\n",
        "\n",
        "# Augmentasi data untuk pelatihan\n",
        "train_datagen = ImageDataGenerator(\n",
        "    rescale=1./255,\n",
        "    rotation_range=20,\n",
        "    width_shift_range=0.2,\n",
        "    height_shift_range=0.2,\n",
        "    horizontal_flip=True,\n",
        "    zoom_range=0.2,\n",
        "    fill_mode='nearest'\n",
        ")\n",
        "\n",
        "# Data validasi (hanya rescaling)\n",
        "val_datagen = ImageDataGenerator(rescale=1./255)\n",
        "\n",
        "print(\"Memuat data pelatihan dan validasi...\")\n",
        "train_generator = train_datagen.flow_from_directory(\n",
        "    train_dir,\n",
        "    target_size=(IMG_HEIGHT, IMG_WIDTH),\n",
        "    batch_size=BATCH_SIZE,\n",
        "    class_mode='categorical'\n",
        ")\n",
        "\n",
        "val_generator = val_datagen.flow_from_directory(\n",
        "    val_dir,\n",
        "    target_size=(IMG_HEIGHT, IMG_WIDTH),\n",
        "    batch_size=BATCH_SIZE,\n",
        "    class_mode='categorical'\n",
        ")\n",
        "\n",
        "# Verifikasi jumlah data yang dimuat\n",
        "print(f\"Data pelatihan: {train_generator.samples} sampel\")\n",
        "print(f\"Data validasi: {val_generator.samples} sampel\")\n",
        "if train_generator.samples == 0 or val_generator.samples == 0:\n",
        "    raise ValueError(\"Data pelatihan atau validasi kosong. Periksa direktori train/validation.\")"
      ],
      "execution_count": 6,
      "outputs": [
        {
          "output_type": "stream",
          "name": "stdout",
          "text": [
            "Memuat data pelatihan dan validasi...\n",
            "Found 3798 images belonging to 9 classes.\n",
            "Found 954 images belonging to 9 classes.\n",
            "Data pelatihan: 3798 sampel\n",
            "Data validasi: 954 sampel\n"
          ]
        }
      ]
    },
    {
      "cell_type": "code",
      "metadata": {
        "id": "cell-6",
        "colab": {
          "base_uri": "https://localhost:8080/",
          "height": 650
        },
        "outputId": "7d76aff1-100b-4cb8-8448-49d9f5065885"
      },
      "source": [
        "# Sel 6: Membangun dan mengompilasi model CNN\n",
        "model = Sequential([\n",
        "    Conv2D(32, (3, 3), activation='relu', padding='same', input_shape=(IMG_HEIGHT, IMG_WIDTH, 3),\n",
        "           kernel_regularizer=l2(0.01)),\n",
        "    MaxPooling2D((2, 2)),\n",
        "\n",
        "    Conv2D(64, (3, 3), activation='relu', padding='same', kernel_regularizer=l2(0.01)),\n",
        "    MaxPooling2D((2, 2)),\n",
        "\n",
        "    Conv2D(128, (3, 3), activation='relu', padding='same', kernel_regularizer=l2(0.01)),\n",
        "    MaxPooling2D((2, 2)),\n",
        "\n",
        "    Conv2D(256, (3, 3), activation='relu', padding='same', kernel_regularizer=l2(0.01)),\n",
        "    MaxPooling2D((2, 2)),\n",
        "\n",
        "    Flatten(),\n",
        "    Dense(512, activation='relu', kernel_regularizer=l2(0.01)),\n",
        "    Dropout(0.5),\n",
        "    Dense(256, activation='relu', kernel_regularizer=l2(0.01)),\n",
        "    Dropout(0.3),\n",
        "    Dense(NUM_CLASSES, activation='softmax')\n",
        "])\n",
        "\n",
        "# Kompilasi model\n",
        "model.compile(\n",
        "    optimizer=tf.keras.optimizers.Adam(learning_rate=0.001),\n",
        "    loss='categorical_crossentropy',\n",
        "    metrics=['accuracy']\n",
        ")\n",
        "\n",
        "# Ringkasan model\n",
        "model.summary()"
      ],
      "execution_count": 7,
      "outputs": [
        {
          "output_type": "stream",
          "name": "stderr",
          "text": [
            "/usr/local/lib/python3.11/dist-packages/keras/src/layers/convolutional/base_conv.py:107: UserWarning: Do not pass an `input_shape`/`input_dim` argument to a layer. When using Sequential models, prefer using an `Input(shape)` object as the first layer in the model instead.\n",
            "  super().__init__(activity_regularizer=activity_regularizer, **kwargs)\n"
          ]
        },
        {
          "output_type": "display_data",
          "data": {
            "text/plain": [
              "\u001b[1mModel: \"sequential\"\u001b[0m\n"
            ],
            "text/html": [
              "<pre style=\"white-space:pre;overflow-x:auto;line-height:normal;font-family:Menlo,'DejaVu Sans Mono',consolas,'Courier New',monospace\"><span style=\"font-weight: bold\">Model: \"sequential\"</span>\n",
              "</pre>\n"
            ]
          },
          "metadata": {}
        },
        {
          "output_type": "display_data",
          "data": {
            "text/plain": [
              "┏━━━━━━━━━━━━━━━━━━━━━━━━━━━━━━━━━┳━━━━━━━━━━━━━━━━━━━━━━━━┳━━━━━━━━━━━━━━━┓\n",
              "┃\u001b[1m \u001b[0m\u001b[1mLayer (type)                   \u001b[0m\u001b[1m \u001b[0m┃\u001b[1m \u001b[0m\u001b[1mOutput Shape          \u001b[0m\u001b[1m \u001b[0m┃\u001b[1m \u001b[0m\u001b[1m      Param #\u001b[0m\u001b[1m \u001b[0m┃\n",
              "┡━━━━━━━━━━━━━━━━━━━━━━━━━━━━━━━━━╇━━━━━━━━━━━━━━━━━━━━━━━━╇━━━━━━━━━━━━━━━┩\n",
              "│ conv2d (\u001b[38;5;33mConv2D\u001b[0m)                 │ (\u001b[38;5;45mNone\u001b[0m, \u001b[38;5;34m224\u001b[0m, \u001b[38;5;34m224\u001b[0m, \u001b[38;5;34m32\u001b[0m)   │           \u001b[38;5;34m896\u001b[0m │\n",
              "├─────────────────────────────────┼────────────────────────┼───────────────┤\n",
              "│ max_pooling2d (\u001b[38;5;33mMaxPooling2D\u001b[0m)    │ (\u001b[38;5;45mNone\u001b[0m, \u001b[38;5;34m112\u001b[0m, \u001b[38;5;34m112\u001b[0m, \u001b[38;5;34m32\u001b[0m)   │             \u001b[38;5;34m0\u001b[0m │\n",
              "├─────────────────────────────────┼────────────────────────┼───────────────┤\n",
              "│ conv2d_1 (\u001b[38;5;33mConv2D\u001b[0m)               │ (\u001b[38;5;45mNone\u001b[0m, \u001b[38;5;34m112\u001b[0m, \u001b[38;5;34m112\u001b[0m, \u001b[38;5;34m64\u001b[0m)   │        \u001b[38;5;34m18,496\u001b[0m │\n",
              "├─────────────────────────────────┼────────────────────────┼───────────────┤\n",
              "│ max_pooling2d_1 (\u001b[38;5;33mMaxPooling2D\u001b[0m)  │ (\u001b[38;5;45mNone\u001b[0m, \u001b[38;5;34m56\u001b[0m, \u001b[38;5;34m56\u001b[0m, \u001b[38;5;34m64\u001b[0m)     │             \u001b[38;5;34m0\u001b[0m │\n",
              "├─────────────────────────────────┼────────────────────────┼───────────────┤\n",
              "│ conv2d_2 (\u001b[38;5;33mConv2D\u001b[0m)               │ (\u001b[38;5;45mNone\u001b[0m, \u001b[38;5;34m56\u001b[0m, \u001b[38;5;34m56\u001b[0m, \u001b[38;5;34m128\u001b[0m)    │        \u001b[38;5;34m73,856\u001b[0m │\n",
              "├─────────────────────────────────┼────────────────────────┼───────────────┤\n",
              "│ max_pooling2d_2 (\u001b[38;5;33mMaxPooling2D\u001b[0m)  │ (\u001b[38;5;45mNone\u001b[0m, \u001b[38;5;34m28\u001b[0m, \u001b[38;5;34m28\u001b[0m, \u001b[38;5;34m128\u001b[0m)    │             \u001b[38;5;34m0\u001b[0m │\n",
              "├─────────────────────────────────┼────────────────────────┼───────────────┤\n",
              "│ conv2d_3 (\u001b[38;5;33mConv2D\u001b[0m)               │ (\u001b[38;5;45mNone\u001b[0m, \u001b[38;5;34m28\u001b[0m, \u001b[38;5;34m28\u001b[0m, \u001b[38;5;34m256\u001b[0m)    │       \u001b[38;5;34m295,168\u001b[0m │\n",
              "├─────────────────────────────────┼────────────────────────┼───────────────┤\n",
              "│ max_pooling2d_3 (\u001b[38;5;33mMaxPooling2D\u001b[0m)  │ (\u001b[38;5;45mNone\u001b[0m, \u001b[38;5;34m14\u001b[0m, \u001b[38;5;34m14\u001b[0m, \u001b[38;5;34m256\u001b[0m)    │             \u001b[38;5;34m0\u001b[0m │\n",
              "├─────────────────────────────────┼────────────────────────┼───────────────┤\n",
              "│ flatten (\u001b[38;5;33mFlatten\u001b[0m)               │ (\u001b[38;5;45mNone\u001b[0m, \u001b[38;5;34m50176\u001b[0m)          │             \u001b[38;5;34m0\u001b[0m │\n",
              "├─────────────────────────────────┼────────────────────────┼───────────────┤\n",
              "│ dense (\u001b[38;5;33mDense\u001b[0m)                   │ (\u001b[38;5;45mNone\u001b[0m, \u001b[38;5;34m512\u001b[0m)            │    \u001b[38;5;34m25,690,624\u001b[0m │\n",
              "├─────────────────────────────────┼────────────────────────┼───────────────┤\n",
              "│ dropout (\u001b[38;5;33mDropout\u001b[0m)               │ (\u001b[38;5;45mNone\u001b[0m, \u001b[38;5;34m512\u001b[0m)            │             \u001b[38;5;34m0\u001b[0m │\n",
              "├─────────────────────────────────┼────────────────────────┼───────────────┤\n",
              "│ dense_1 (\u001b[38;5;33mDense\u001b[0m)                 │ (\u001b[38;5;45mNone\u001b[0m, \u001b[38;5;34m256\u001b[0m)            │       \u001b[38;5;34m131,328\u001b[0m │\n",
              "├─────────────────────────────────┼────────────────────────┼───────────────┤\n",
              "│ dropout_1 (\u001b[38;5;33mDropout\u001b[0m)             │ (\u001b[38;5;45mNone\u001b[0m, \u001b[38;5;34m256\u001b[0m)            │             \u001b[38;5;34m0\u001b[0m │\n",
              "├─────────────────────────────────┼────────────────────────┼───────────────┤\n",
              "│ dense_2 (\u001b[38;5;33mDense\u001b[0m)                 │ (\u001b[38;5;45mNone\u001b[0m, \u001b[38;5;34m9\u001b[0m)              │         \u001b[38;5;34m2,313\u001b[0m │\n",
              "└─────────────────────────────────┴────────────────────────┴───────────────┘\n"
            ],
            "text/html": [
              "<pre style=\"white-space:pre;overflow-x:auto;line-height:normal;font-family:Menlo,'DejaVu Sans Mono',consolas,'Courier New',monospace\">┏━━━━━━━━━━━━━━━━━━━━━━━━━━━━━━━━━┳━━━━━━━━━━━━━━━━━━━━━━━━┳━━━━━━━━━━━━━━━┓\n",
              "┃<span style=\"font-weight: bold\"> Layer (type)                    </span>┃<span style=\"font-weight: bold\"> Output Shape           </span>┃<span style=\"font-weight: bold\">       Param # </span>┃\n",
              "┡━━━━━━━━━━━━━━━━━━━━━━━━━━━━━━━━━╇━━━━━━━━━━━━━━━━━━━━━━━━╇━━━━━━━━━━━━━━━┩\n",
              "│ conv2d (<span style=\"color: #0087ff; text-decoration-color: #0087ff\">Conv2D</span>)                 │ (<span style=\"color: #00d7ff; text-decoration-color: #00d7ff\">None</span>, <span style=\"color: #00af00; text-decoration-color: #00af00\">224</span>, <span style=\"color: #00af00; text-decoration-color: #00af00\">224</span>, <span style=\"color: #00af00; text-decoration-color: #00af00\">32</span>)   │           <span style=\"color: #00af00; text-decoration-color: #00af00\">896</span> │\n",
              "├─────────────────────────────────┼────────────────────────┼───────────────┤\n",
              "│ max_pooling2d (<span style=\"color: #0087ff; text-decoration-color: #0087ff\">MaxPooling2D</span>)    │ (<span style=\"color: #00d7ff; text-decoration-color: #00d7ff\">None</span>, <span style=\"color: #00af00; text-decoration-color: #00af00\">112</span>, <span style=\"color: #00af00; text-decoration-color: #00af00\">112</span>, <span style=\"color: #00af00; text-decoration-color: #00af00\">32</span>)   │             <span style=\"color: #00af00; text-decoration-color: #00af00\">0</span> │\n",
              "├─────────────────────────────────┼────────────────────────┼───────────────┤\n",
              "│ conv2d_1 (<span style=\"color: #0087ff; text-decoration-color: #0087ff\">Conv2D</span>)               │ (<span style=\"color: #00d7ff; text-decoration-color: #00d7ff\">None</span>, <span style=\"color: #00af00; text-decoration-color: #00af00\">112</span>, <span style=\"color: #00af00; text-decoration-color: #00af00\">112</span>, <span style=\"color: #00af00; text-decoration-color: #00af00\">64</span>)   │        <span style=\"color: #00af00; text-decoration-color: #00af00\">18,496</span> │\n",
              "├─────────────────────────────────┼────────────────────────┼───────────────┤\n",
              "│ max_pooling2d_1 (<span style=\"color: #0087ff; text-decoration-color: #0087ff\">MaxPooling2D</span>)  │ (<span style=\"color: #00d7ff; text-decoration-color: #00d7ff\">None</span>, <span style=\"color: #00af00; text-decoration-color: #00af00\">56</span>, <span style=\"color: #00af00; text-decoration-color: #00af00\">56</span>, <span style=\"color: #00af00; text-decoration-color: #00af00\">64</span>)     │             <span style=\"color: #00af00; text-decoration-color: #00af00\">0</span> │\n",
              "├─────────────────────────────────┼────────────────────────┼───────────────┤\n",
              "│ conv2d_2 (<span style=\"color: #0087ff; text-decoration-color: #0087ff\">Conv2D</span>)               │ (<span style=\"color: #00d7ff; text-decoration-color: #00d7ff\">None</span>, <span style=\"color: #00af00; text-decoration-color: #00af00\">56</span>, <span style=\"color: #00af00; text-decoration-color: #00af00\">56</span>, <span style=\"color: #00af00; text-decoration-color: #00af00\">128</span>)    │        <span style=\"color: #00af00; text-decoration-color: #00af00\">73,856</span> │\n",
              "├─────────────────────────────────┼────────────────────────┼───────────────┤\n",
              "│ max_pooling2d_2 (<span style=\"color: #0087ff; text-decoration-color: #0087ff\">MaxPooling2D</span>)  │ (<span style=\"color: #00d7ff; text-decoration-color: #00d7ff\">None</span>, <span style=\"color: #00af00; text-decoration-color: #00af00\">28</span>, <span style=\"color: #00af00; text-decoration-color: #00af00\">28</span>, <span style=\"color: #00af00; text-decoration-color: #00af00\">128</span>)    │             <span style=\"color: #00af00; text-decoration-color: #00af00\">0</span> │\n",
              "├─────────────────────────────────┼────────────────────────┼───────────────┤\n",
              "│ conv2d_3 (<span style=\"color: #0087ff; text-decoration-color: #0087ff\">Conv2D</span>)               │ (<span style=\"color: #00d7ff; text-decoration-color: #00d7ff\">None</span>, <span style=\"color: #00af00; text-decoration-color: #00af00\">28</span>, <span style=\"color: #00af00; text-decoration-color: #00af00\">28</span>, <span style=\"color: #00af00; text-decoration-color: #00af00\">256</span>)    │       <span style=\"color: #00af00; text-decoration-color: #00af00\">295,168</span> │\n",
              "├─────────────────────────────────┼────────────────────────┼───────────────┤\n",
              "│ max_pooling2d_3 (<span style=\"color: #0087ff; text-decoration-color: #0087ff\">MaxPooling2D</span>)  │ (<span style=\"color: #00d7ff; text-decoration-color: #00d7ff\">None</span>, <span style=\"color: #00af00; text-decoration-color: #00af00\">14</span>, <span style=\"color: #00af00; text-decoration-color: #00af00\">14</span>, <span style=\"color: #00af00; text-decoration-color: #00af00\">256</span>)    │             <span style=\"color: #00af00; text-decoration-color: #00af00\">0</span> │\n",
              "├─────────────────────────────────┼────────────────────────┼───────────────┤\n",
              "│ flatten (<span style=\"color: #0087ff; text-decoration-color: #0087ff\">Flatten</span>)               │ (<span style=\"color: #00d7ff; text-decoration-color: #00d7ff\">None</span>, <span style=\"color: #00af00; text-decoration-color: #00af00\">50176</span>)          │             <span style=\"color: #00af00; text-decoration-color: #00af00\">0</span> │\n",
              "├─────────────────────────────────┼────────────────────────┼───────────────┤\n",
              "│ dense (<span style=\"color: #0087ff; text-decoration-color: #0087ff\">Dense</span>)                   │ (<span style=\"color: #00d7ff; text-decoration-color: #00d7ff\">None</span>, <span style=\"color: #00af00; text-decoration-color: #00af00\">512</span>)            │    <span style=\"color: #00af00; text-decoration-color: #00af00\">25,690,624</span> │\n",
              "├─────────────────────────────────┼────────────────────────┼───────────────┤\n",
              "│ dropout (<span style=\"color: #0087ff; text-decoration-color: #0087ff\">Dropout</span>)               │ (<span style=\"color: #00d7ff; text-decoration-color: #00d7ff\">None</span>, <span style=\"color: #00af00; text-decoration-color: #00af00\">512</span>)            │             <span style=\"color: #00af00; text-decoration-color: #00af00\">0</span> │\n",
              "├─────────────────────────────────┼────────────────────────┼───────────────┤\n",
              "│ dense_1 (<span style=\"color: #0087ff; text-decoration-color: #0087ff\">Dense</span>)                 │ (<span style=\"color: #00d7ff; text-decoration-color: #00d7ff\">None</span>, <span style=\"color: #00af00; text-decoration-color: #00af00\">256</span>)            │       <span style=\"color: #00af00; text-decoration-color: #00af00\">131,328</span> │\n",
              "├─────────────────────────────────┼────────────────────────┼───────────────┤\n",
              "│ dropout_1 (<span style=\"color: #0087ff; text-decoration-color: #0087ff\">Dropout</span>)             │ (<span style=\"color: #00d7ff; text-decoration-color: #00d7ff\">None</span>, <span style=\"color: #00af00; text-decoration-color: #00af00\">256</span>)            │             <span style=\"color: #00af00; text-decoration-color: #00af00\">0</span> │\n",
              "├─────────────────────────────────┼────────────────────────┼───────────────┤\n",
              "│ dense_2 (<span style=\"color: #0087ff; text-decoration-color: #0087ff\">Dense</span>)                 │ (<span style=\"color: #00d7ff; text-decoration-color: #00d7ff\">None</span>, <span style=\"color: #00af00; text-decoration-color: #00af00\">9</span>)              │         <span style=\"color: #00af00; text-decoration-color: #00af00\">2,313</span> │\n",
              "└─────────────────────────────────┴────────────────────────┴───────────────┘\n",
              "</pre>\n"
            ]
          },
          "metadata": {}
        },
        {
          "output_type": "display_data",
          "data": {
            "text/plain": [
              "\u001b[1m Total params: \u001b[0m\u001b[38;5;34m26,212,681\u001b[0m (99.99 MB)\n"
            ],
            "text/html": [
              "<pre style=\"white-space:pre;overflow-x:auto;line-height:normal;font-family:Menlo,'DejaVu Sans Mono',consolas,'Courier New',monospace\"><span style=\"font-weight: bold\"> Total params: </span><span style=\"color: #00af00; text-decoration-color: #00af00\">26,212,681</span> (99.99 MB)\n",
              "</pre>\n"
            ]
          },
          "metadata": {}
        },
        {
          "output_type": "display_data",
          "data": {
            "text/plain": [
              "\u001b[1m Trainable params: \u001b[0m\u001b[38;5;34m26,212,681\u001b[0m (99.99 MB)\n"
            ],
            "text/html": [
              "<pre style=\"white-space:pre;overflow-x:auto;line-height:normal;font-family:Menlo,'DejaVu Sans Mono',consolas,'Courier New',monospace\"><span style=\"font-weight: bold\"> Trainable params: </span><span style=\"color: #00af00; text-decoration-color: #00af00\">26,212,681</span> (99.99 MB)\n",
              "</pre>\n"
            ]
          },
          "metadata": {}
        },
        {
          "output_type": "display_data",
          "data": {
            "text/plain": [
              "\u001b[1m Non-trainable params: \u001b[0m\u001b[38;5;34m0\u001b[0m (0.00 B)\n"
            ],
            "text/html": [
              "<pre style=\"white-space:pre;overflow-x:auto;line-height:normal;font-family:Menlo,'DejaVu Sans Mono',consolas,'Courier New',monospace\"><span style=\"font-weight: bold\"> Non-trainable params: </span><span style=\"color: #00af00; text-decoration-color: #00af00\">0</span> (0.00 B)\n",
              "</pre>\n"
            ]
          },
          "metadata": {}
        }
      ]
    },
    {
      "cell_type": "code",
      "metadata": {
        "id": "cell-7",
        "colab": {
          "base_uri": "https://localhost:8080/"
        },
        "outputId": "ddeb5a8d-e9a7-476e-e5de-6e339ccdaf58"
      },
      "source": [
        "# Sel 7: Melatih model dengan checkpoint\n",
        "checkpoint_path = '/content/drive/MyDrive/RealWasteDataset/checkpoint.weights.h5'  # Diperbaiki: .h5 menjadi .weights.h5\n",
        "checkpoint = ModelCheckpoint(\n",
        "    checkpoint_path,\n",
        "    monitor='val_loss',\n",
        "    save_best_only=True,\n",
        "    save_weights_only=True,\n",
        "    verbose=1\n",
        ")\n",
        "\n",
        "early_stopping = EarlyStopping(\n",
        "    monitor='val_loss',\n",
        "    patience=10,\n",
        "    restore_best_weights=True\n",
        ")\n",
        "\n",
        "# Cek apakah ada checkpoint yang tersimpan\n",
        "if os.path.exists(checkpoint_path):\n",
        "    print(\"Memuat bobot dari checkpoint...\")\n",
        "    model.load_weights(checkpoint_path)\n",
        "\n",
        "# Latih model\n",
        "print(\"Melatih model...\")\n",
        "history = model.fit(\n",
        "    train_generator,\n",
        "    epochs=50,\n",
        "    validation_data=val_generator,\n",
        "    callbacks=[checkpoint, early_stopping]\n",
        ")"
      ],
      "execution_count": 10,
      "outputs": [
        {
          "output_type": "stream",
          "name": "stdout",
          "text": [
            "Melatih model...\n"
          ]
        },
        {
          "output_type": "stream",
          "name": "stderr",
          "text": [
            "/usr/local/lib/python3.11/dist-packages/keras/src/trainers/data_adapters/py_dataset_adapter.py:121: UserWarning: Your `PyDataset` class should call `super().__init__(**kwargs)` in its constructor. `**kwargs` can include `workers`, `use_multiprocessing`, `max_queue_size`. Do not pass these arguments to `fit()`, as they will be ignored.\n",
            "  self._warn_if_super_not_called()\n"
          ]
        },
        {
          "output_type": "stream",
          "name": "stdout",
          "text": [
            "Epoch 1/50\n",
            "\u001b[1m119/119\u001b[0m \u001b[32m━━━━━━━━━━━━━━━━━━━━\u001b[0m\u001b[37m\u001b[0m \u001b[1m0s\u001b[0m 511ms/step - accuracy: 0.1642 - loss: 7.6161\n",
            "Epoch 1: val_loss improved from inf to 2.69490, saving model to /content/drive/MyDrive/RealWasteDataset/checkpoint.weights.h5\n",
            "\u001b[1m119/119\u001b[0m \u001b[32m━━━━━━━━━━━━━━━━━━━━\u001b[0m\u001b[37m\u001b[0m \u001b[1m81s\u001b[0m 594ms/step - accuracy: 0.1643 - loss: 7.5922 - val_accuracy: 0.1939 - val_loss: 2.6949\n",
            "Epoch 2/50\n",
            "\u001b[1m119/119\u001b[0m \u001b[32m━━━━━━━━━━━━━━━━━━━━\u001b[0m\u001b[37m\u001b[0m \u001b[1m0s\u001b[0m 472ms/step - accuracy: 0.1842 - loss: 2.5653\n",
            "Epoch 2: val_loss improved from 2.69490 to 2.31208, saving model to /content/drive/MyDrive/RealWasteDataset/checkpoint.weights.h5\n",
            "\u001b[1m119/119\u001b[0m \u001b[32m━━━━━━━━━━━━━━━━━━━━\u001b[0m\u001b[37m\u001b[0m \u001b[1m65s\u001b[0m 543ms/step - accuracy: 0.1842 - loss: 2.5644 - val_accuracy: 0.1939 - val_loss: 2.3121\n",
            "Epoch 3/50\n",
            "\u001b[1m119/119\u001b[0m \u001b[32m━━━━━━━━━━━━━━━━━━━━\u001b[0m\u001b[37m\u001b[0m \u001b[1m0s\u001b[0m 508ms/step - accuracy: 0.1854 - loss: 2.2883\n",
            "Epoch 3: val_loss improved from 2.31208 to 2.20712, saving model to /content/drive/MyDrive/RealWasteDataset/checkpoint.weights.h5\n",
            "\u001b[1m119/119\u001b[0m \u001b[32m━━━━━━━━━━━━━━━━━━━━\u001b[0m\u001b[37m\u001b[0m \u001b[1m69s\u001b[0m 581ms/step - accuracy: 0.1855 - loss: 2.2880 - val_accuracy: 0.1939 - val_loss: 2.2071\n",
            "Epoch 4/50\n",
            "\u001b[1m119/119\u001b[0m \u001b[32m━━━━━━━━━━━━━━━━━━━━\u001b[0m\u001b[37m\u001b[0m \u001b[1m0s\u001b[0m 517ms/step - accuracy: 0.1944 - loss: 2.1969\n",
            "Epoch 4: val_loss improved from 2.20712 to 2.17340, saving model to /content/drive/MyDrive/RealWasteDataset/checkpoint.weights.h5\n",
            "\u001b[1m119/119\u001b[0m \u001b[32m━━━━━━━━━━━━━━━━━━━━\u001b[0m\u001b[37m\u001b[0m \u001b[1m74s\u001b[0m 623ms/step - accuracy: 0.1944 - loss: 2.1968 - val_accuracy: 0.1939 - val_loss: 2.1734\n",
            "Epoch 5/50\n",
            "\u001b[1m119/119\u001b[0m \u001b[32m━━━━━━━━━━━━━━━━━━━━\u001b[0m\u001b[37m\u001b[0m \u001b[1m0s\u001b[0m 519ms/step - accuracy: 0.2040 - loss: 2.1618\n",
            "Epoch 5: val_loss improved from 2.17340 to 2.15977, saving model to /content/drive/MyDrive/RealWasteDataset/checkpoint.weights.h5\n",
            "\u001b[1m119/119\u001b[0m \u001b[32m━━━━━━━━━━━━━━━━━━━━\u001b[0m\u001b[37m\u001b[0m \u001b[1m73s\u001b[0m 609ms/step - accuracy: 0.2039 - loss: 2.1619 - val_accuracy: 0.1939 - val_loss: 2.1598\n",
            "Epoch 6/50\n",
            "\u001b[1m119/119\u001b[0m \u001b[32m━━━━━━━━━━━━━━━━━━━━\u001b[0m\u001b[37m\u001b[0m \u001b[1m0s\u001b[0m 515ms/step - accuracy: 0.1873 - loss: 2.1700\n",
            "Epoch 6: val_loss improved from 2.15977 to 2.15337, saving model to /content/drive/MyDrive/RealWasteDataset/checkpoint.weights.h5\n",
            "\u001b[1m119/119\u001b[0m \u001b[32m━━━━━━━━━━━━━━━━━━━━\u001b[0m\u001b[37m\u001b[0m \u001b[1m69s\u001b[0m 579ms/step - accuracy: 0.1874 - loss: 2.1699 - val_accuracy: 0.1939 - val_loss: 2.1534\n",
            "Epoch 7/50\n",
            "\u001b[1m119/119\u001b[0m \u001b[32m━━━━━━━━━━━━━━━━━━━━\u001b[0m\u001b[37m\u001b[0m \u001b[1m0s\u001b[0m 522ms/step - accuracy: 0.1997 - loss: 2.1492\n",
            "Epoch 7: val_loss improved from 2.15337 to 2.14927, saving model to /content/drive/MyDrive/RealWasteDataset/checkpoint.weights.h5\n",
            "\u001b[1m119/119\u001b[0m \u001b[32m━━━━━━━━━━━━━━━━━━━━\u001b[0m\u001b[37m\u001b[0m \u001b[1m72s\u001b[0m 605ms/step - accuracy: 0.1996 - loss: 2.1492 - val_accuracy: 0.1939 - val_loss: 2.1493\n",
            "Epoch 8/50\n",
            "\u001b[1m119/119\u001b[0m \u001b[32m━━━━━━━━━━━━━━━━━━━━\u001b[0m\u001b[37m\u001b[0m \u001b[1m0s\u001b[0m 504ms/step - accuracy: 0.1992 - loss: 2.1473\n",
            "Epoch 8: val_loss improved from 2.14927 to 2.14691, saving model to /content/drive/MyDrive/RealWasteDataset/checkpoint.weights.h5\n",
            "\u001b[1m119/119\u001b[0m \u001b[32m━━━━━━━━━━━━━━━━━━━━\u001b[0m\u001b[37m\u001b[0m \u001b[1m80s\u001b[0m 582ms/step - accuracy: 0.1991 - loss: 2.1473 - val_accuracy: 0.1939 - val_loss: 2.1469\n",
            "Epoch 9/50\n",
            "\u001b[1m119/119\u001b[0m \u001b[32m━━━━━━━━━━━━━━━━━━━━\u001b[0m\u001b[37m\u001b[0m \u001b[1m0s\u001b[0m 480ms/step - accuracy: 0.2014 - loss: 2.1416\n",
            "Epoch 9: val_loss improved from 2.14691 to 2.14589, saving model to /content/drive/MyDrive/RealWasteDataset/checkpoint.weights.h5\n",
            "\u001b[1m119/119\u001b[0m \u001b[32m━━━━━━━━━━━━━━━━━━━━\u001b[0m\u001b[37m\u001b[0m \u001b[1m83s\u001b[0m 585ms/step - accuracy: 0.2014 - loss: 2.1417 - val_accuracy: 0.1939 - val_loss: 2.1459\n",
            "Epoch 10/50\n",
            "\u001b[1m119/119\u001b[0m \u001b[32m━━━━━━━━━━━━━━━━━━━━\u001b[0m\u001b[37m\u001b[0m \u001b[1m0s\u001b[0m 506ms/step - accuracy: 0.1815 - loss: 2.1459\n",
            "Epoch 10: val_loss improved from 2.14589 to 2.14424, saving model to /content/drive/MyDrive/RealWasteDataset/checkpoint.weights.h5\n",
            "\u001b[1m119/119\u001b[0m \u001b[32m━━━━━━━━━━━━━━━━━━━━\u001b[0m\u001b[37m\u001b[0m \u001b[1m71s\u001b[0m 601ms/step - accuracy: 0.1816 - loss: 2.1459 - val_accuracy: 0.1939 - val_loss: 2.1442\n",
            "Epoch 11/50\n",
            "\u001b[1m119/119\u001b[0m \u001b[32m━━━━━━━━━━━━━━━━━━━━\u001b[0m\u001b[37m\u001b[0m \u001b[1m0s\u001b[0m 482ms/step - accuracy: 0.1924 - loss: 2.1449\n",
            "Epoch 11: val_loss improved from 2.14424 to 2.14357, saving model to /content/drive/MyDrive/RealWasteDataset/checkpoint.weights.h5\n",
            "\u001b[1m119/119\u001b[0m \u001b[32m━━━━━━━━━━━━━━━━━━━━\u001b[0m\u001b[37m\u001b[0m \u001b[1m80s\u001b[0m 581ms/step - accuracy: 0.1924 - loss: 2.1449 - val_accuracy: 0.1939 - val_loss: 2.1436\n",
            "Epoch 12/50\n",
            "\u001b[1m119/119\u001b[0m \u001b[32m━━━━━━━━━━━━━━━━━━━━\u001b[0m\u001b[37m\u001b[0m \u001b[1m0s\u001b[0m 522ms/step - accuracy: 0.1980 - loss: 2.1464\n",
            "Epoch 12: val_loss improved from 2.14357 to 2.14294, saving model to /content/drive/MyDrive/RealWasteDataset/checkpoint.weights.h5\n",
            "\u001b[1m119/119\u001b[0m \u001b[32m━━━━━━━━━━━━━━━━━━━━\u001b[0m\u001b[37m\u001b[0m \u001b[1m70s\u001b[0m 586ms/step - accuracy: 0.1979 - loss: 2.1464 - val_accuracy: 0.1939 - val_loss: 2.1429\n",
            "Epoch 13/50\n",
            "\u001b[1m119/119\u001b[0m \u001b[32m━━━━━━━━━━━━━━━━━━━━\u001b[0m\u001b[37m\u001b[0m \u001b[1m0s\u001b[0m 513ms/step - accuracy: 0.2013 - loss: 2.1417\n",
            "Epoch 13: val_loss improved from 2.14294 to 2.14267, saving model to /content/drive/MyDrive/RealWasteDataset/checkpoint.weights.h5\n",
            "\u001b[1m119/119\u001b[0m \u001b[32m━━━━━━━━━━━━━━━━━━━━\u001b[0m\u001b[37m\u001b[0m \u001b[1m72s\u001b[0m 601ms/step - accuracy: 0.2012 - loss: 2.1417 - val_accuracy: 0.1939 - val_loss: 2.1427\n",
            "Epoch 14/50\n",
            "\u001b[1m119/119\u001b[0m \u001b[32m━━━━━━━━━━━━━━━━━━━━\u001b[0m\u001b[37m\u001b[0m \u001b[1m0s\u001b[0m 512ms/step - accuracy: 0.2021 - loss: 2.1377\n",
            "Epoch 14: val_loss improved from 2.14267 to 2.14243, saving model to /content/drive/MyDrive/RealWasteDataset/checkpoint.weights.h5\n",
            "\u001b[1m119/119\u001b[0m \u001b[32m━━━━━━━━━━━━━━━━━━━━\u001b[0m\u001b[37m\u001b[0m \u001b[1m74s\u001b[0m 621ms/step - accuracy: 0.2020 - loss: 2.1378 - val_accuracy: 0.1939 - val_loss: 2.1424\n",
            "Epoch 15/50\n",
            "\u001b[1m119/119\u001b[0m \u001b[32m━━━━━━━━━━━━━━━━━━━━\u001b[0m\u001b[37m\u001b[0m \u001b[1m0s\u001b[0m 528ms/step - accuracy: 0.1788 - loss: 2.1522\n",
            "Epoch 15: val_loss improved from 2.14243 to 2.14229, saving model to /content/drive/MyDrive/RealWasteDataset/checkpoint.weights.h5\n",
            "\u001b[1m119/119\u001b[0m \u001b[32m━━━━━━━━━━━━━━━━━━━━\u001b[0m\u001b[37m\u001b[0m \u001b[1m75s\u001b[0m 635ms/step - accuracy: 0.1789 - loss: 2.1521 - val_accuracy: 0.1939 - val_loss: 2.1423\n",
            "Epoch 16/50\n",
            "\u001b[1m119/119\u001b[0m \u001b[32m━━━━━━━━━━━━━━━━━━━━\u001b[0m\u001b[37m\u001b[0m \u001b[1m0s\u001b[0m 530ms/step - accuracy: 0.1931 - loss: 2.1386\n",
            "Epoch 16: val_loss improved from 2.14229 to 2.14216, saving model to /content/drive/MyDrive/RealWasteDataset/checkpoint.weights.h5\n",
            "\u001b[1m119/119\u001b[0m \u001b[32m━━━━━━━━━━━━━━━━━━━━\u001b[0m\u001b[37m\u001b[0m \u001b[1m76s\u001b[0m 638ms/step - accuracy: 0.1932 - loss: 2.1387 - val_accuracy: 0.1939 - val_loss: 2.1422\n",
            "Epoch 17/50\n",
            "\u001b[1m119/119\u001b[0m \u001b[32m━━━━━━━━━━━━━━━━━━━━\u001b[0m\u001b[37m\u001b[0m \u001b[1m0s\u001b[0m 528ms/step - accuracy: 0.1904 - loss: 2.1526\n",
            "Epoch 17: val_loss did not improve from 2.14216\n",
            "\u001b[1m119/119\u001b[0m \u001b[32m━━━━━━━━━━━━━━━━━━━━\u001b[0m\u001b[37m\u001b[0m \u001b[1m72s\u001b[0m 557ms/step - accuracy: 0.1905 - loss: 2.1525 - val_accuracy: 0.1939 - val_loss: 2.1423\n",
            "Epoch 18/50\n",
            "\u001b[1m119/119\u001b[0m \u001b[32m━━━━━━━━━━━━━━━━━━━━\u001b[0m\u001b[37m\u001b[0m \u001b[1m0s\u001b[0m 470ms/step - accuracy: 0.1986 - loss: 2.1380\n",
            "Epoch 18: val_loss did not improve from 2.14216\n",
            "\u001b[1m119/119\u001b[0m \u001b[32m━━━━━━━━━━━━━━━━━━━━\u001b[0m\u001b[37m\u001b[0m \u001b[1m61s\u001b[0m 514ms/step - accuracy: 0.1986 - loss: 2.1380 - val_accuracy: 0.1939 - val_loss: 2.1422\n",
            "Epoch 19/50\n",
            "\u001b[1m119/119\u001b[0m \u001b[32m━━━━━━━━━━━━━━━━━━━━\u001b[0m\u001b[37m\u001b[0m \u001b[1m0s\u001b[0m 484ms/step - accuracy: 0.1947 - loss: 2.1383\n",
            "Epoch 19: val_loss did not improve from 2.14216\n",
            "\u001b[1m119/119\u001b[0m \u001b[32m━━━━━━━━━━━━━━━━━━━━\u001b[0m\u001b[37m\u001b[0m \u001b[1m82s\u001b[0m 516ms/step - accuracy: 0.1947 - loss: 2.1383 - val_accuracy: 0.1939 - val_loss: 2.1425\n",
            "Epoch 20/50\n",
            "\u001b[1m119/119\u001b[0m \u001b[32m━━━━━━━━━━━━━━━━━━━━\u001b[0m\u001b[37m\u001b[0m \u001b[1m0s\u001b[0m 474ms/step - accuracy: 0.1924 - loss: 2.1408\n",
            "Epoch 20: val_loss improved from 2.14216 to 2.14197, saving model to /content/drive/MyDrive/RealWasteDataset/checkpoint.weights.h5\n",
            "\u001b[1m119/119\u001b[0m \u001b[32m━━━━━━━━━━━━━━━━━━━━\u001b[0m\u001b[37m\u001b[0m \u001b[1m67s\u001b[0m 563ms/step - accuracy: 0.1924 - loss: 2.1408 - val_accuracy: 0.1939 - val_loss: 2.1420\n",
            "Epoch 21/50\n",
            "\u001b[1m119/119\u001b[0m \u001b[32m━━━━━━━━━━━━━━━━━━━━\u001b[0m\u001b[37m\u001b[0m \u001b[1m0s\u001b[0m 519ms/step - accuracy: 0.2099 - loss: 2.1349\n",
            "Epoch 21: val_loss did not improve from 2.14197\n",
            "\u001b[1m119/119\u001b[0m \u001b[32m━━━━━━━━━━━━━━━━━━━━\u001b[0m\u001b[37m\u001b[0m \u001b[1m66s\u001b[0m 557ms/step - accuracy: 0.2097 - loss: 2.1350 - val_accuracy: 0.1939 - val_loss: 2.1428\n",
            "Epoch 22/50\n",
            "\u001b[1m119/119\u001b[0m \u001b[32m━━━━━━━━━━━━━━━━━━━━\u001b[0m\u001b[37m\u001b[0m \u001b[1m0s\u001b[0m 475ms/step - accuracy: 0.1840 - loss: 2.1527\n",
            "Epoch 22: val_loss improved from 2.14197 to 2.14192, saving model to /content/drive/MyDrive/RealWasteDataset/checkpoint.weights.h5\n",
            "\u001b[1m119/119\u001b[0m \u001b[32m━━━━━━━━━━━━━━━━━━━━\u001b[0m\u001b[37m\u001b[0m \u001b[1m69s\u001b[0m 584ms/step - accuracy: 0.1841 - loss: 2.1526 - val_accuracy: 0.1939 - val_loss: 2.1419\n",
            "Epoch 23/50\n",
            "\u001b[1m119/119\u001b[0m \u001b[32m━━━━━━━━━━━━━━━━━━━━\u001b[0m\u001b[37m\u001b[0m \u001b[1m0s\u001b[0m 528ms/step - accuracy: 0.1976 - loss: 2.1315\n",
            "Epoch 23: val_loss did not improve from 2.14192\n",
            "\u001b[1m119/119\u001b[0m \u001b[32m━━━━━━━━━━━━━━━━━━━━\u001b[0m\u001b[37m\u001b[0m \u001b[1m67s\u001b[0m 559ms/step - accuracy: 0.1976 - loss: 2.1316 - val_accuracy: 0.1939 - val_loss: 2.1420\n",
            "Epoch 24/50\n",
            "\u001b[1m119/119\u001b[0m \u001b[32m━━━━━━━━━━━━━━━━━━━━\u001b[0m\u001b[37m\u001b[0m \u001b[1m0s\u001b[0m 470ms/step - accuracy: 0.1944 - loss: 2.1420\n",
            "Epoch 24: val_loss did not improve from 2.14192\n",
            "\u001b[1m119/119\u001b[0m \u001b[32m━━━━━━━━━━━━━━━━━━━━\u001b[0m\u001b[37m\u001b[0m \u001b[1m59s\u001b[0m 500ms/step - accuracy: 0.1944 - loss: 2.1420 - val_accuracy: 0.1939 - val_loss: 2.1419\n",
            "Epoch 25/50\n",
            "\u001b[1m119/119\u001b[0m \u001b[32m━━━━━━━━━━━━━━━━━━━━\u001b[0m\u001b[37m\u001b[0m \u001b[1m0s\u001b[0m 468ms/step - accuracy: 0.1983 - loss: 2.1409\n",
            "Epoch 25: val_loss did not improve from 2.14192\n",
            "\u001b[1m119/119\u001b[0m \u001b[32m━━━━━━━━━━━━━━━━━━━━\u001b[0m\u001b[37m\u001b[0m \u001b[1m60s\u001b[0m 501ms/step - accuracy: 0.1983 - loss: 2.1409 - val_accuracy: 0.1939 - val_loss: 2.1420\n",
            "Epoch 26/50\n",
            "\u001b[1m119/119\u001b[0m \u001b[32m━━━━━━━━━━━━━━━━━━━━\u001b[0m\u001b[37m\u001b[0m \u001b[1m0s\u001b[0m 462ms/step - accuracy: 0.1824 - loss: 2.1541\n",
            "Epoch 26: val_loss did not improve from 2.14192\n",
            "\u001b[1m119/119\u001b[0m \u001b[32m━━━━━━━━━━━━━━━━━━━━\u001b[0m\u001b[37m\u001b[0m \u001b[1m58s\u001b[0m 491ms/step - accuracy: 0.1825 - loss: 2.1540 - val_accuracy: 0.1939 - val_loss: 2.1421\n",
            "Epoch 27/50\n",
            "\u001b[1m119/119\u001b[0m \u001b[32m━━━━━━━━━━━━━━━━━━━━\u001b[0m\u001b[37m\u001b[0m \u001b[1m0s\u001b[0m 470ms/step - accuracy: 0.1950 - loss: 2.1362\n",
            "Epoch 27: val_loss improved from 2.14192 to 2.14192, saving model to /content/drive/MyDrive/RealWasteDataset/checkpoint.weights.h5\n",
            "\u001b[1m119/119\u001b[0m \u001b[32m━━━━━━━━━━━━━━━━━━━━\u001b[0m\u001b[37m\u001b[0m \u001b[1m67s\u001b[0m 562ms/step - accuracy: 0.1950 - loss: 2.1363 - val_accuracy: 0.1939 - val_loss: 2.1419\n",
            "Epoch 28/50\n",
            "\u001b[1m119/119\u001b[0m \u001b[32m━━━━━━━━━━━━━━━━━━━━\u001b[0m\u001b[37m\u001b[0m \u001b[1m0s\u001b[0m 525ms/step - accuracy: 0.1949 - loss: 2.1428\n",
            "Epoch 28: val_loss did not improve from 2.14192\n",
            "\u001b[1m119/119\u001b[0m \u001b[32m━━━━━━━━━━━━━━━━━━━━\u001b[0m\u001b[37m\u001b[0m \u001b[1m66s\u001b[0m 554ms/step - accuracy: 0.1949 - loss: 2.1428 - val_accuracy: 0.1939 - val_loss: 2.1420\n",
            "Epoch 29/50\n",
            "\u001b[1m119/119\u001b[0m \u001b[32m━━━━━━━━━━━━━━━━━━━━\u001b[0m\u001b[37m\u001b[0m \u001b[1m0s\u001b[0m 469ms/step - accuracy: 0.1906 - loss: 2.1435\n",
            "Epoch 29: val_loss improved from 2.14192 to 2.14191, saving model to /content/drive/MyDrive/RealWasteDataset/checkpoint.weights.h5\n",
            "\u001b[1m119/119\u001b[0m \u001b[32m━━━━━━━━━━━━━━━━━━━━\u001b[0m\u001b[37m\u001b[0m \u001b[1m65s\u001b[0m 548ms/step - accuracy: 0.1906 - loss: 2.1435 - val_accuracy: 0.1939 - val_loss: 2.1419\n",
            "Epoch 30/50\n",
            "\u001b[1m119/119\u001b[0m \u001b[32m━━━━━━━━━━━━━━━━━━━━\u001b[0m\u001b[37m\u001b[0m \u001b[1m0s\u001b[0m 525ms/step - accuracy: 0.1920 - loss: 2.1511\n",
            "Epoch 30: val_loss did not improve from 2.14191\n",
            "\u001b[1m119/119\u001b[0m \u001b[32m━━━━━━━━━━━━━━━━━━━━\u001b[0m\u001b[37m\u001b[0m \u001b[1m66s\u001b[0m 558ms/step - accuracy: 0.1920 - loss: 2.1510 - val_accuracy: 0.1939 - val_loss: 2.1420\n",
            "Epoch 31/50\n",
            "\u001b[1m119/119\u001b[0m \u001b[32m━━━━━━━━━━━━━━━━━━━━\u001b[0m\u001b[37m\u001b[0m \u001b[1m0s\u001b[0m 471ms/step - accuracy: 0.1941 - loss: 2.1451\n",
            "Epoch 31: val_loss did not improve from 2.14191\n",
            "\u001b[1m119/119\u001b[0m \u001b[32m━━━━━━━━━━━━━━━━━━━━\u001b[0m\u001b[37m\u001b[0m \u001b[1m60s\u001b[0m 501ms/step - accuracy: 0.1941 - loss: 2.1451 - val_accuracy: 0.1939 - val_loss: 2.1420\n",
            "Epoch 32/50\n",
            "\u001b[1m119/119\u001b[0m \u001b[32m━━━━━━━━━━━━━━━━━━━━\u001b[0m\u001b[37m\u001b[0m \u001b[1m0s\u001b[0m 482ms/step - accuracy: 0.1987 - loss: 2.1438\n",
            "Epoch 32: val_loss did not improve from 2.14191\n",
            "\u001b[1m119/119\u001b[0m \u001b[32m━━━━━━━━━━━━━━━━━━━━\u001b[0m\u001b[37m\u001b[0m \u001b[1m61s\u001b[0m 515ms/step - accuracy: 0.1986 - loss: 2.1438 - val_accuracy: 0.1939 - val_loss: 2.1421\n",
            "Epoch 33/50\n",
            "\u001b[1m119/119\u001b[0m \u001b[32m━━━━━━━━━━━━━━━━━━━━\u001b[0m\u001b[37m\u001b[0m \u001b[1m0s\u001b[0m 469ms/step - accuracy: 0.1949 - loss: 2.1469\n",
            "Epoch 33: val_loss did not improve from 2.14191\n",
            "\u001b[1m119/119\u001b[0m \u001b[32m━━━━━━━━━━━━━━━━━━━━\u001b[0m\u001b[37m\u001b[0m \u001b[1m59s\u001b[0m 498ms/step - accuracy: 0.1949 - loss: 2.1469 - val_accuracy: 0.1939 - val_loss: 2.1420\n",
            "Epoch 34/50\n",
            "\u001b[1m119/119\u001b[0m \u001b[32m━━━━━━━━━━━━━━━━━━━━\u001b[0m\u001b[37m\u001b[0m \u001b[1m0s\u001b[0m 468ms/step - accuracy: 0.1852 - loss: 2.1426\n",
            "Epoch 34: val_loss did not improve from 2.14191\n",
            "\u001b[1m119/119\u001b[0m \u001b[32m━━━━━━━━━━━━━━━━━━━━\u001b[0m\u001b[37m\u001b[0m \u001b[1m60s\u001b[0m 502ms/step - accuracy: 0.1853 - loss: 2.1426 - val_accuracy: 0.1939 - val_loss: 2.1420\n",
            "Epoch 35/50\n",
            "\u001b[1m119/119\u001b[0m \u001b[32m━━━━━━━━━━━━━━━━━━━━\u001b[0m\u001b[37m\u001b[0m \u001b[1m0s\u001b[0m 458ms/step - accuracy: 0.1910 - loss: 2.1430\n",
            "Epoch 35: val_loss did not improve from 2.14191\n",
            "\u001b[1m119/119\u001b[0m \u001b[32m━━━━━━━━━━━━━━━━━━━━\u001b[0m\u001b[37m\u001b[0m \u001b[1m58s\u001b[0m 488ms/step - accuracy: 0.1911 - loss: 2.1430 - val_accuracy: 0.1939 - val_loss: 2.1420\n",
            "Epoch 36/50\n",
            "\u001b[1m119/119\u001b[0m \u001b[32m━━━━━━━━━━━━━━━━━━━━\u001b[0m\u001b[37m\u001b[0m \u001b[1m0s\u001b[0m 472ms/step - accuracy: 0.1968 - loss: 2.1422\n",
            "Epoch 36: val_loss did not improve from 2.14191\n",
            "\u001b[1m119/119\u001b[0m \u001b[32m━━━━━━━━━━━━━━━━━━━━\u001b[0m\u001b[37m\u001b[0m \u001b[1m61s\u001b[0m 510ms/step - accuracy: 0.1967 - loss: 2.1422 - val_accuracy: 0.1939 - val_loss: 2.1419\n",
            "Epoch 37/50\n",
            "\u001b[1m119/119\u001b[0m \u001b[32m━━━━━━━━━━━━━━━━━━━━\u001b[0m\u001b[37m\u001b[0m \u001b[1m0s\u001b[0m 461ms/step - accuracy: 0.1894 - loss: 2.1439\n",
            "Epoch 37: val_loss did not improve from 2.14191\n",
            "\u001b[1m119/119\u001b[0m \u001b[32m━━━━━━━━━━━━━━━━━━━━\u001b[0m\u001b[37m\u001b[0m \u001b[1m58s\u001b[0m 490ms/step - accuracy: 0.1895 - loss: 2.1439 - val_accuracy: 0.1939 - val_loss: 2.1419\n",
            "Epoch 38/50\n",
            "\u001b[1m119/119\u001b[0m \u001b[32m━━━━━━━━━━━━━━━━━━━━\u001b[0m\u001b[37m\u001b[0m \u001b[1m0s\u001b[0m 467ms/step - accuracy: 0.1931 - loss: 2.1462\n",
            "Epoch 38: val_loss did not improve from 2.14191\n",
            "\u001b[1m119/119\u001b[0m \u001b[32m━━━━━━━━━━━━━━━━━━━━\u001b[0m\u001b[37m\u001b[0m \u001b[1m60s\u001b[0m 501ms/step - accuracy: 0.1931 - loss: 2.1462 - val_accuracy: 0.1939 - val_loss: 2.1419\n",
            "Epoch 39/50\n",
            "\u001b[1m119/119\u001b[0m \u001b[32m━━━━━━━━━━━━━━━━━━━━\u001b[0m\u001b[37m\u001b[0m \u001b[1m0s\u001b[0m 467ms/step - accuracy: 0.1889 - loss: 2.1479\n",
            "Epoch 39: val_loss did not improve from 2.14191\n",
            "\u001b[1m119/119\u001b[0m \u001b[32m━━━━━━━━━━━━━━━━━━━━\u001b[0m\u001b[37m\u001b[0m \u001b[1m59s\u001b[0m 497ms/step - accuracy: 0.1890 - loss: 2.1479 - val_accuracy: 0.1939 - val_loss: 2.1419\n"
          ]
        }
      ]
    },
    {
      "cell_type": "code",
      "metadata": {
        "id": "cell-8",
        "colab": {
          "base_uri": "https://localhost:8080/"
        },
        "outputId": "c7717438-c08a-4595-9429-e0c6e8ff46e2"
      },
      "source": [
        "# Sel 8: Evaluasi model dan simpan riwayat pelatihan\n",
        "val_loss, val_accuracy = model.evaluate(val_generator)\n",
        "print(f\"Loss Validasi: {val_loss:.4f}\")\n",
        "print(f\"Akurasi Validasi: {val_accuracy:.4f}\")\n",
        "\n",
        "# Simpan model akhir\n",
        "model.save('/content/drive/MyDrive/RealWasteDataset/realwaste_cnn_model.h5')\n",
        "print(\"Model akhir disimpan ke Google Drive.\")\n",
        "\n",
        "# Simpan riwayat pelatihan\n",
        "with open('/content/drive/MyDrive/RealWasteDataset/history.pkl', 'wb') as f:\n",
        "    pickle.dump(history.history, f)\n",
        "print(\"Riwayat pelatihan disimpan ke Google Drive.\")"
      ],
      "execution_count": 11,
      "outputs": [
        {
          "output_type": "stream",
          "name": "stdout",
          "text": [
            "\u001b[1m30/30\u001b[0m \u001b[32m━━━━━━━━━━━━━━━━━━━━\u001b[0m\u001b[37m\u001b[0m \u001b[1m4s\u001b[0m 132ms/step - accuracy: 0.1962 - loss: 2.1354\n"
          ]
        },
        {
          "output_type": "stream",
          "name": "stderr",
          "text": [
            "WARNING:absl:You are saving your model as an HDF5 file via `model.save()` or `keras.saving.save_model(model)`. This file format is considered legacy. We recommend using instead the native Keras format, e.g. `model.save('my_model.keras')` or `keras.saving.save_model(model, 'my_model.keras')`. \n"
          ]
        },
        {
          "output_type": "stream",
          "name": "stdout",
          "text": [
            "Loss Validasi: 2.1419\n",
            "Akurasi Validasi: 0.1939\n",
            "Model akhir disimpan ke Google Drive.\n",
            "Riwayat pelatihan disimpan ke Google Drive.\n"
          ]
        }
      ]
    },
    {
      "cell_type": "code",
      "metadata": {
        "id": "cell-9",
        "colab": {
          "base_uri": "https://localhost:8080/",
          "height": 425
        },
        "outputId": "5bdf0223-b4b6-4ca3-f398-dd400a887926"
      },
      "source": [
        "# Sel 9: Plot kurva pelatihan\n",
        "plt.figure(figsize=(12, 4))\n",
        "\n",
        "# Plot akurasi\n",
        "plt.subplot(1, 2, 1)\n",
        "plt.plot(history.history['accuracy'], label='Akurasi Pelatihan')\n",
        "plt.plot(history.history['val_accuracy'], label='Akurasi Validasi')\n",
        "plt.title('Akurasi Model')\n",
        "plt.xlabel('Epoch')\n",
        "plt.ylabel('Akurasi')\n",
        "plt.legend()\n",
        "\n",
        "# Plot loss\n",
        "plt.subplot(1, 2, 2)\n",
        "plt.plot(history.history['loss'], label='Loss Pelatihan')\n",
        "plt.plot(history.history['val_loss'], label='Loss Validasi')\n",
        "plt.title('Loss Model')\n",
        "plt.xlabel('Epoch')\n",
        "plt.ylabel('Loss')\n",
        "plt.legend()\n",
        "\n",
        "plt.tight_layout()\n",
        "plt.savefig('/content/drive/MyDrive/RealWasteDataset/training_plot.png')\n",
        "plt.show()\n",
        "print(\"Plot pelatihan disimpan ke Google Drive.\")"
      ],
      "execution_count": 12,
      "outputs": [
        {
          "output_type": "display_data",
          "data": {
            "text/plain": [
              "<Figure size 1200x400 with 2 Axes>"
            ],
            "image/png": "[encoded data removed]"
          },
          "metadata": {}
        },
        {
          "output_type": "stream",
          "name": "stdout",
          "text": [
            "Plot pelatihan disimpan ke Google Drive.\n"
          ]
        }
      ]
    },
    {
      "cell_type": "code",
      "source": [
        "# Sel 10: Membaca dan menampilkan data dari history.pkl\n",
        "import pickle\n",
        "import pandas as pd\n",
        "\n",
        "# Path ke file history.pkl\n",
        "history_path = '/content/drive/MyDrive/RealWasteDataset/history.pkl'\n",
        "\n",
        "# Baca file history.pkl\n",
        "with open(history_path, 'rb') as f:\n",
        "    history_dict = pickle.load(f)\n",
        "\n",
        "# Dapatkan metrik dari history\n",
        "epochs = range(1, len(history_dict['accuracy']) + 1)\n",
        "data = {\n",
        "    'Epoch': list(epochs),\n",
        "    'Train Accuracy': history_dict['accuracy'],\n",
        "    'Val Accuracy': history_dict['val_accuracy'],\n",
        "    'Train Loss': history_dict['loss'],\n",
        "    'Val Loss': history_dict['val_loss']\n",
        "}\n",
        "\n",
        "# Buat DataFrame untuk tampilan tabel\n",
        "df = pd.DataFrame(data)\n",
        "\n",
        "# Cetak tabel\n",
        "print(\"Hasil Pelatihan per Epoch:\")\n",
        "print(df.to_string(index=False))\n",
        "\n",
        "# Deskripsi tren\n",
        "print(\"\\nAnalisis Tren:\")\n",
        "print(f\"- Akurasi Pelatihan Tertinggi: {max(history_dict['accuracy']):.4f}\")\n",
        "print(f\"- Akurasi Validasi Tertinggi: {max(history_dict['val_accuracy']):.4f}\")\n",
        "print(f\"- Loss Pelatihan Terendah: {min(history_dict['loss']):.4f}\")\n",
        "print(f\"- Loss Validasi Terendah: {min(history_dict['val_loss']):.4f}\")\n",
        "\n",
        "# Deskripsi perubahan akurasi dan loss\n",
        "if history_dict['accuracy'][-1] > history_dict['accuracy'][0]:\n",
        "    print(\"- Akurasi pelatihan meningkat selama pelatihan.\")\n",
        "else:\n",
        "    print(\"- Akurasi pelatihan tidak meningkat secara signifikan.\")\n",
        "if history_dict['val_accuracy'][-1] > history_dict['val_accuracy'][0]:\n",
        "    print(\"- Akurasi validasi meningkat selama pelatihan.\")\n",
        "else:\n",
        "    print(\"- Akurasi validasi tidak meningkat secara signifikan.\")\n",
        "if history_dict['loss'][-1] < history_dict['loss'][0]:\n",
        "    print(\"- Loss pelatihan menurun selama pelatihan.\")\n",
        "else:\n",
        "    print(\"- Loss pelatihan tidak menurun secara signifikan.\")\n",
        "if history_dict['val_loss'][-1] < history_dict['val_loss'][0]:\n",
        "    print(\"- Loss validasi menurun selama pelatihan.\")\n",
        "else:\n",
        "    print(\"- Loss validasi tidak menurun secara signifikan.\")"
      ],
      "metadata": {
        "colab": {
          "base_uri": "https://localhost:8080/"
        },
        "id": "SvhFbncotWOS",
        "outputId": "4f126352-0420-4fdc-d3c3-655fe29934d1"
      },
      "execution_count": 13,
      "outputs": [
        {
          "output_type": "stream",
          "name": "stdout",
          "text": [
            "Hasil Pelatihan per Epoch:\n",
            " Epoch  Train Accuracy  Val Accuracy  Train Loss  Val Loss\n",
            "     1        0.182728       0.19392    4.752627  2.694899\n",
            "     2        0.194313       0.19392    2.459994  2.312084\n",
            "     3        0.193786       0.19392    2.252638  2.207117\n",
            "     4        0.193786       0.19392    2.188746  2.173401\n",
            "     5        0.194049       0.19392    2.168014  2.159773\n",
            "     6        0.193786       0.19392    2.156552  2.153370\n",
            "     7        0.193786       0.19392    2.152970  2.149269\n",
            "     8        0.194049       0.19392    2.149428  2.146910\n",
            "     9        0.193786       0.19392    2.147028  2.145892\n",
            "    10        0.194049       0.19392    2.145641  2.144241\n",
            "    11        0.193786       0.19392    2.144143  2.143572\n",
            "    12        0.193786       0.19392    2.145250  2.142944\n",
            "    13        0.193786       0.19392    2.144629  2.142670\n",
            "    14        0.193786       0.19392    2.143500  2.142433\n",
            "    15        0.193523       0.19392    2.143461  2.142292\n",
            "    16        0.193786       0.19392    2.143833  2.142160\n",
            "    17        0.193786       0.19392    2.142725  2.142264\n",
            "    18        0.193786       0.19392    2.143221  2.142188\n",
            "    19        0.193786       0.19392    2.143747  2.142516\n",
            "    20        0.193786       0.19392    2.142557  2.141973\n",
            "    21        0.194049       0.19392    2.143033  2.142786\n",
            "    22        0.193786       0.19392    2.143008  2.141922\n",
            "    23        0.193786       0.19392    2.141675  2.142006\n",
            "    24        0.193786       0.19392    2.142936  2.141928\n",
            "    25        0.193786       0.19392    2.142318  2.142027\n",
            "    26        0.193786       0.19392    2.142291  2.142128\n",
            "    27        0.193786       0.19392    2.143300  2.141922\n",
            "    28        0.193786       0.19392    2.142487  2.142028\n",
            "    29        0.194049       0.19392    2.143134  2.141907\n",
            "    30        0.193786       0.19392    2.143365  2.142013\n",
            "    31        0.193786       0.19392    2.142569  2.142005\n",
            "    32        0.193786       0.19392    2.143077  2.142060\n",
            "    33        0.193786       0.19392    2.142790  2.141969\n",
            "    34        0.194049       0.19392    2.143520  2.141991\n",
            "    35        0.193786       0.19392    2.142923  2.141989\n",
            "    36        0.193786       0.19392    2.142709  2.141944\n",
            "    37        0.193786       0.19392    2.143114  2.141923\n",
            "    38        0.193786       0.19392    2.142848  2.141923\n",
            "    39        0.193786       0.19392    2.142883  2.141945\n",
            "\n",
            "Analisis Tren:\n",
            "- Akurasi Pelatihan Tertinggi: 0.1943\n",
            "- Akurasi Validasi Tertinggi: 0.1939\n",
            "- Loss Pelatihan Terendah: 2.1417\n",
            "- Loss Validasi Terendah: 2.1419\n",
            "- Akurasi pelatihan meningkat selama pelatihan.\n",
            "- Akurasi validasi tidak meningkat secara signifikan.\n",
            "- Loss pelatihan menurun selama pelatihan.\n",
            "- Loss validasi menurun selama pelatihan.\n"
          ]
        }
      ]
    },
    {
      "cell_type": "code",
      "source": [
        "# Sel 11: Analisis performa per kelas menggunakan precision, recall, dan F1-score\n",
        "from sklearn.metrics import classification_report\n",
        "import numpy as np\n",
        "\n",
        "# Pastikan model, val_generator, dan classes sudah didefinisikan (dari sel sebelumnya)\n",
        "# classes = ['Cardboard', 'Food Organics', 'Glass', 'Metal', 'Miscellaneous Trash', 'Paper', 'Plastic', 'Textile Trash', 'Vegetation']\n",
        "\n",
        "# Reset generator untuk memastikan data dimuat dari awal\n",
        "val_generator.reset()\n",
        "\n",
        "# Dapatkan prediksi pada data validasi\n",
        "print(\"Memprediksi pada data validasi...\")\n",
        "y_pred = model.predict(val_generator)\n",
        "y_pred_classes = np.argmax(y_pred, axis=1)\n",
        "y_true = val_generator.classes\n",
        "\n",
        "# Cetak laporan klasifikasi\n",
        "print(\"\\nLaporan Klasifikasi Per Kelas:\")\n",
        "print(classification_report(y_true, y_pred_classes, target_names=classes))"
      ],
      "metadata": {
        "colab": {
          "base_uri": "https://localhost:8080/"
        },
        "id": "j76pvrRvtbrb",
        "outputId": "cbc50bf6-40de-4bf1-ad08-c09939726eb0"
      },
      "execution_count": 14,
      "outputs": [
        {
          "output_type": "stream",
          "name": "stdout",
          "text": [
            "Memprediksi pada data validasi...\n",
            "\u001b[1m30/30\u001b[0m \u001b[32m━━━━━━━━━━━━━━━━━━━━\u001b[0m\u001b[37m\u001b[0m \u001b[1m4s\u001b[0m 122ms/step\n",
            "\n",
            "Laporan Klasifikasi Per Kelas:\n",
            "                     precision    recall  f1-score   support\n",
            "\n",
            "          Cardboard       0.00      0.00      0.00        93\n",
            "      Food Organics       0.00      0.00      0.00        83\n",
            "              Glass       0.00      0.00      0.00        84\n",
            "              Metal       0.00      0.00      0.00       158\n",
            "Miscellaneous Trash       0.00      0.00      0.00        99\n",
            "              Paper       0.00      0.00      0.00       100\n",
            "            Plastic       0.19      1.00      0.32       185\n",
            "      Textile Trash       0.00      0.00      0.00        64\n",
            "         Vegetation       0.00      0.00      0.00        88\n",
            "\n",
            "           accuracy                           0.19       954\n",
            "          macro avg       0.02      0.11      0.04       954\n",
            "       weighted avg       0.04      0.19      0.06       954\n",
            "\n"
          ]
        },
        {
          "output_type": "stream",
          "name": "stderr",
          "text": [
            "/usr/local/lib/python3.11/dist-packages/sklearn/metrics/_classification.py:1565: UndefinedMetricWarning: Precision is ill-defined and being set to 0.0 in labels with no predicted samples. Use `zero_division` parameter to control this behavior.\n",
            "  _warn_prf(average, modifier, f\"{metric.capitalize()} is\", len(result))\n",
            "/usr/local/lib/python3.11/dist-packages/sklearn/metrics/_classification.py:1565: UndefinedMetricWarning: Precision is ill-defined and being set to 0.0 in labels with no predicted samples. Use `zero_division` parameter to control this behavior.\n",
            "  _warn_prf(average, modifier, f\"{metric.capitalize()} is\", len(result))\n",
            "/usr/local/lib/python3.11/dist-packages/sklearn/metrics/_classification.py:1565: UndefinedMetricWarning: Precision is ill-defined and being set to 0.0 in labels with no predicted samples. Use `zero_division` parameter to control this behavior.\n",
            "  _warn_prf(average, modifier, f\"{metric.capitalize()} is\", len(result))\n"
          ]
        }
      ]
    }
  ],
  "metadata": {
    "kernelspec": {
      "display_name": "Python 3",
      "name": "python3"
    },
    "language_info": {
      "codemirror_mode": {
        "name": "ipython",
        "version": 3
      },
      "file_extension": ".py",
      "mimetype": "text/x-python",
      "name": "python",
      "nbconvert_exporter": "python",
      "pygments_lexer": "ipython3",
      "version": "3.8.10"
    },
    "colab": {
      "provenance": [],
      "gpuType": "T4"
    },
    "accelerator": "GPU"
  },
  "nbformat": 4,
  "nbformat_minor": 0
}